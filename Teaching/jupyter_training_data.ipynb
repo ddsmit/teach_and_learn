{
  "nbformat": 4,
  "nbformat_minor": 0,
  "metadata": {
    "kernelspec": {
      "display_name": "Python 3",
      "language": "python",
      "name": "python3"
    },
    "language_info": {
      "codemirror_mode": {
        "name": "ipython",
        "version": 3
      },
      "file_extension": ".py",
      "mimetype": "text/x-python",
      "name": "python",
      "nbconvert_exporter": "python",
      "pygments_lexer": "ipython3",
      "version": "3.7.3"
    },
    "varInspector": {
      "cols": {
        "lenName": 16,
        "lenType": 16,
        "lenVar": 40
      },
      "kernels_config": {
        "python": {
          "delete_cmd_postfix": "",
          "delete_cmd_prefix": "del ",
          "library": "var_list.py",
          "varRefreshCmd": "print(var_dic_list())"
        },
        "r": {
          "delete_cmd_postfix": ") ",
          "delete_cmd_prefix": "rm(",
          "library": "var_list.r",
          "varRefreshCmd": "cat(var_dic_list()) "
        }
      },
      "types_to_exclude": [
        "module",
        "function",
        "builtin_function_or_method",
        "instance",
        "_Feature"
      ],
      "window_display": false
    },
    "colab": {
      "name": "jupyter_training_data.ipynb",
      "provenance": [],
      "collapsed_sections": [],
      "toc_visible": true,
      "include_colab_link": true
    }
  },
  "cells": [
    {
      "cell_type": "markdown",
      "metadata": {
        "id": "view-in-github",
        "colab_type": "text"
      },
      "source": [
        "<a href=\"https://colab.research.google.com/github/ddsmit/teach_and_learn/blob/master/jupyter_training_data.ipynb\" target=\"_parent\"><img src=\"https://colab.research.google.com/assets/colab-badge.svg\" alt=\"Open In Colab\"/></a>"
      ]
    },
    {
      "cell_type": "markdown",
      "metadata": {
        "id": "YqoNlBIinc8j",
        "colab_type": "text"
      },
      "source": [
        "# Jupyter Training for Data\n",
        "## Welcome!\n",
        "I'm writing this notebook for people who are new to Python and Jupyter, but have some background in programming. I will quickly go over some of the basics of Python (types, conditionals, and loops), and then I will get into some of the Python specific packages that make data analysis much easier. But first, an introduction into Jupyter."
      ]
    },
    {
      "cell_type": "markdown",
      "metadata": {
        "id": "ir7OJ-kZnc8q",
        "colab_type": "text"
      },
      "source": [
        "## What is Jupyter\n",
        "Jupyter is an app based on web technologies that allows for incremental processing and data exploration. Jupyter is made up of cells, which can come in a variety of formats. The cells I use most often are Markdown and Code cells. Markdown cells use the markdown format to create nicely formatted text, lists, images, etc for documenting the study and explaining the analysis process in the notebook (this cell and the previous cell is Markdown). Code cells take code as an input, and can show an output depending on the contents of the cell. The code cells we will be working with will be written in Python, but there are a variety of languages that can be used in the cells (R, Julia, Javascript, etc)."
      ]
    },
    {
      "cell_type": "markdown",
      "metadata": {
        "id": "SvEcj8ILnc8s",
        "colab_type": "text"
      },
      "source": [
        "## Starting With Jupyter\n",
        "### Basics\n",
        "\n",
        "Below are a couple important things to know to get started with Jupyter:\n",
        "\n",
        "- To execute a code cell or show the output of the markdown cell, you can click the \"Run\" button or use shift + ENTER\n",
        "- A new cell is created below the bottom cell when you run the cell.\n",
        "- To create a new cell without running a cell or to insert a cell, click the \"insert cell below\" (+) button\n",
        "- You can click the \"up\" and \"down\" buttons to shift cells around the notebook.\n",
        "### The Kernel\n",
        "\n",
        "One thing that makes Jupyter great for analyzing large data sets (and also tricky to troubleshoot) is if data is assigned to a variable, it stays in memory as long as the kernel stays alive. This means that you don't have to load that massive data set or run that expensive query over and over again. It also means that it can be easy to accidently introduce bugs because you accidently used a variable twice, and the newer data persists when you try to run older cells. \n",
        "The \"Kernel\" menu has a variety of options for managing the kernel:\n",
        "\n",
        "- Interupt: This stops the processing, but does not kill the kernel.\n",
        "- Restart: Restarts the kernel, clearing the memory\n",
        "- Restart and Clear Output: Restarts the kernel and clears the output form the cells\n",
        "- Restart and Run All: Restarts the kernel and Reruns all Cells in the Notebook\n",
        "I have not used the last 2 options extensively, so I don't want to mispeak about their purpose. If you're curious, you can do some research yourself!\n",
        "\n",
        "Now, lets get started with a simple example to show how the kernel retains data. Run the cell below (#cell 1)."
      ]
    },
    {
      "cell_type": "code",
      "metadata": {
        "ExecuteTime": {
          "end_time": "2020-03-17T13:33:49.111627Z",
          "start_time": "2020-03-17T13:33:49.107116Z"
        },
        "id": "EDa3hN5nnc8v",
        "colab_type": "code",
        "outputId": "c0df9ff8-c923-4e67-817f-6ee34c037cb8",
        "colab": {
          "base_uri": "https://localhost:8080/",
          "height": 34
        }
      },
      "source": [
        "#cell 1\n",
        "#assign a value to a variable\n",
        "x = 1\n",
        "x"
      ],
      "execution_count": 0,
      "outputs": [
        {
          "output_type": "execute_result",
          "data": {
            "text/plain": [
              "1"
            ]
          },
          "metadata": {
            "tags": []
          },
          "execution_count": 1
        }
      ]
    },
    {
      "cell_type": "markdown",
      "metadata": {
        "id": "p2RgneXMnc86",
        "colab_type": "text"
      },
      "source": [
        "Notice how the value of \"X\" was output. This is because Jupyter will show the output if something valid is on the bottom of the cell. Now run #cell 2 and #cell 3 below:"
      ]
    },
    {
      "cell_type": "code",
      "metadata": {
        "ExecuteTime": {
          "end_time": "2020-03-17T13:33:11.201297Z",
          "start_time": "2020-03-17T13:33:11.198286Z"
        },
        "id": "lSPPIP6unc88",
        "colab_type": "code",
        "colab": {}
      },
      "source": [
        "#cell 2\n",
        "x = 2"
      ],
      "execution_count": 0,
      "outputs": []
    },
    {
      "cell_type": "code",
      "metadata": {
        "ExecuteTime": {
          "end_time": "2020-03-17T13:33:52.695939Z",
          "start_time": "2020-03-17T13:33:52.692430Z"
        },
        "id": "CU2PksOGnc9E",
        "colab_type": "code",
        "outputId": "915d1c9b-0546-4a0f-cc9b-78dcf72d03b6",
        "colab": {
          "base_uri": "https://localhost:8080/",
          "height": 34
        }
      },
      "source": [
        "#cell 3\n",
        "x"
      ],
      "execution_count": 0,
      "outputs": [
        {
          "output_type": "execute_result",
          "data": {
            "text/plain": [
              "2"
            ]
          },
          "metadata": {
            "tags": []
          },
          "execution_count": 3
        }
      ]
    },
    {
      "cell_type": "markdown",
      "metadata": {
        "id": "S058QKmxnc9N",
        "colab_type": "text"
      },
      "source": [
        "As you would expect, the output was \"2\" because the value of 2 was assigned to \"x\". Now run #cell 1 and #cell 3 OMITTING #cell 2. What was the output?\n",
        "This behavior is part of the reason you need to be carefull with execution order in Jupyter to make sure you're not accidently changing your results."
      ]
    },
    {
      "cell_type": "markdown",
      "metadata": {
        "id": "aPOrQ1Wmnc9Q",
        "colab_type": "text"
      },
      "source": [
        "# Python: Built in Types\n",
        "As with any programming languages, it is important to understand the basic/most common ways that data is stored in the language. There are many types built into the Python standard library, but we will focus on some of the types I've used most often in my data analysis.\n",
        "One feature of Python that makes it so powerful for quick interation is that it is a dynamically typed language. This means that you do not need to declare the type of a variable ahead of time. Also, you can assign a value of a different type to a variable without an issue"
      ]
    },
    {
      "cell_type": "markdown",
      "metadata": {
        "id": "LIp5Xihpnc9U",
        "colab_type": "text"
      },
      "source": [
        "## String\n",
        "Python has a single type that covers all character/string data. This type has may built in functions that can be very helpful. First, we will start by assigning a string to a variable. To let python know a value is a string, you can use single quotes '', double quotes \"\", or triple quotes \"\"\"\"\"\". Triple quotes allow for multi line text, and are typically reserved for such cases."
      ]
    },
    {
      "cell_type": "code",
      "metadata": {
        "ExecuteTime": {
          "end_time": "2020-03-17T13:49:34.337999Z",
          "start_time": "2020-03-17T13:49:34.334523Z"
        },
        "id": "6sZ3JbO4nc9Z",
        "colab_type": "code",
        "colab": {}
      },
      "source": [
        "first_name = 'David' #single quotes\n",
        "last_name = \"Smit\" #double quotes\n",
        "life_story = \"\"\"\n",
        "My life story is very short, \n",
        "but it doesn't mean it only takes 1 line.\n",
        "\"\"\""
      ],
      "execution_count": 0,
      "outputs": []
    },
    {
      "cell_type": "markdown",
      "metadata": {
        "id": "tgNrzu-Gnc9n",
        "colab_type": "text"
      },
      "source": [
        "What if you want to know how long a string is? Use the len() function."
      ]
    },
    {
      "cell_type": "code",
      "metadata": {
        "ExecuteTime": {
          "end_time": "2020-03-17T13:50:47.897840Z",
          "start_time": "2020-03-17T13:50:47.893328Z"
        },
        "id": "AAk1Qy4Knc9r",
        "colab_type": "code",
        "outputId": "e30790bd-0af1-4aa8-db9b-3a074835d04e",
        "colab": {
          "base_uri": "https://localhost:8080/",
          "height": 34
        }
      },
      "source": [
        "len(first_name)"
      ],
      "execution_count": 0,
      "outputs": [
        {
          "output_type": "execute_result",
          "data": {
            "text/plain": [
              "5"
            ]
          },
          "metadata": {
            "tags": []
          },
          "execution_count": 5
        }
      ]
    },
    {
      "cell_type": "markdown",
      "metadata": {
        "id": "EANuDJZync92",
        "colab_type": "text"
      },
      "source": [
        "If you want to lower all of the letters, capitilize all of the letters, or capitlize the first letter, there are functions for that too!"
      ]
    },
    {
      "cell_type": "code",
      "metadata": {
        "ExecuteTime": {
          "end_time": "2020-03-17T13:52:34.511917Z",
          "start_time": "2020-03-17T13:52:34.507404Z"
        },
        "id": "Jsy6rjoKnc96",
        "colab_type": "code",
        "outputId": "97afad05-bfe2-4912-be8a-4c981fd70cc7",
        "colab": {
          "base_uri": "https://localhost:8080/",
          "height": 34
        }
      },
      "source": [
        "last_name.lower()"
      ],
      "execution_count": 0,
      "outputs": [
        {
          "output_type": "execute_result",
          "data": {
            "text/plain": [
              "'smit'"
            ]
          },
          "metadata": {
            "tags": []
          },
          "execution_count": 6
        }
      ]
    },
    {
      "cell_type": "code",
      "metadata": {
        "ExecuteTime": {
          "end_time": "2020-03-17T13:52:45.325321Z",
          "start_time": "2020-03-17T13:52:45.320280Z"
        },
        "id": "OwM7cMcLnc-I",
        "colab_type": "code",
        "outputId": "3954a932-ce70-4a99-92a9-fbec831fabe4",
        "colab": {
          "base_uri": "https://localhost:8080/",
          "height": 34
        }
      },
      "source": [
        "last_name.upper()"
      ],
      "execution_count": 0,
      "outputs": [
        {
          "output_type": "execute_result",
          "data": {
            "text/plain": [
              "'SMIT'"
            ]
          },
          "metadata": {
            "tags": []
          },
          "execution_count": 7
        }
      ]
    },
    {
      "cell_type": "code",
      "metadata": {
        "ExecuteTime": {
          "end_time": "2020-03-17T13:52:53.924023Z",
          "start_time": "2020-03-17T13:52:53.919977Z"
        },
        "id": "vXC-tfLtnc-T",
        "colab_type": "code",
        "outputId": "29f902a0-c60a-4441-ae1d-fa70cd152d65",
        "colab": {
          "base_uri": "https://localhost:8080/",
          "height": 34
        }
      },
      "source": [
        "last_name.capitalize()"
      ],
      "execution_count": 0,
      "outputs": [
        {
          "output_type": "execute_result",
          "data": {
            "text/plain": [
              "'Smit'"
            ]
          },
          "metadata": {
            "tags": []
          },
          "execution_count": 8
        }
      ]
    },
    {
      "cell_type": "markdown",
      "metadata": {
        "id": "NkBsyXsAnc-e",
        "colab_type": "text"
      },
      "source": [
        "You may have noticed how the syntax was different between the len and lower/upper/capitalize. This is because len is a function, and lower/upper/captilize are methods. We will get into that a little bit more in the intermediate notebook. \n",
        "\n",
        "If you only have (1) value in square brackets [] after the variable, it will return the value at that index (starting at 0). So if you use 0 in the brackets, you'd get:"
      ]
    },
    {
      "cell_type": "code",
      "metadata": {
        "ExecuteTime": {
          "end_time": "2020-03-17T15:27:23.988463Z",
          "start_time": "2020-03-17T15:27:23.983450Z"
        },
        "id": "wpx_Utptnc-h",
        "colab_type": "code",
        "outputId": "61c0502f-d655-4e2e-db85-3e656b5fa161",
        "colab": {
          "base_uri": "https://localhost:8080/",
          "height": 34
        }
      },
      "source": [
        "first_name[0]"
      ],
      "execution_count": 0,
      "outputs": [
        {
          "output_type": "execute_result",
          "data": {
            "text/plain": [
              "'D'"
            ]
          },
          "metadata": {
            "tags": []
          },
          "execution_count": 9
        }
      ]
    },
    {
      "cell_type": "markdown",
      "metadata": {
        "id": "5JzXGKrmnc-o",
        "colab_type": "text"
      },
      "source": [
        "If you use 1 in the brackets, you get:"
      ]
    },
    {
      "cell_type": "code",
      "metadata": {
        "ExecuteTime": {
          "end_time": "2020-03-17T15:28:16.778322Z",
          "start_time": "2020-03-17T15:28:16.774354Z"
        },
        "id": "JcZoyE9Inc-q",
        "colab_type": "code",
        "outputId": "d931e755-460c-47eb-9635-fb06cad5e04d",
        "colab": {
          "base_uri": "https://localhost:8080/",
          "height": 34
        }
      },
      "source": [
        "first_name[1]"
      ],
      "execution_count": 0,
      "outputs": [
        {
          "output_type": "execute_result",
          "data": {
            "text/plain": [
              "'a'"
            ]
          },
          "metadata": {
            "tags": []
          },
          "execution_count": 10
        }
      ]
    },
    {
      "cell_type": "markdown",
      "metadata": {
        "id": "5zmkL8UKnc-w",
        "colab_type": "text"
      },
      "source": [
        "Now, we will try slicing with strings. Slicing can be used on many datatypes to pull out sections of the data quickly and easily. In the case of text, you can pull out a specific section of the text.\n",
        "Slicing is done by putting square brackets [] behind a variable like finding the index, but you also include multiple values seperated by \":\"\n",
        "\n",
        "[start index:end_index:step]\n",
        "\n",
        "If you ommit the value for step, it will default to 1. So to pull out indexes 0 to 2, you would do the following:"
      ]
    },
    {
      "cell_type": "code",
      "metadata": {
        "ExecuteTime": {
          "end_time": "2020-03-17T15:31:08.645474Z",
          "start_time": "2020-03-17T15:31:08.641465Z"
        },
        "id": "ft3236oinc-x",
        "colab_type": "code",
        "outputId": "9fe3dbc6-565f-4469-eb59-e68552396042",
        "colab": {
          "base_uri": "https://localhost:8080/",
          "height": 34
        }
      },
      "source": [
        "first_name[0:2]"
      ],
      "execution_count": 0,
      "outputs": [
        {
          "output_type": "execute_result",
          "data": {
            "text/plain": [
              "'Da'"
            ]
          },
          "metadata": {
            "tags": []
          },
          "execution_count": 11
        }
      ]
    },
    {
      "cell_type": "markdown",
      "metadata": {
        "id": "bE2974H0nc-4",
        "colab_type": "text"
      },
      "source": [
        "Notice how the output wasn't 'Dav', this is because the slice gets the values up to, but not including the index in the 2nd spot. You can also omit a value, which means it will default to the first or last index depending on which value is omitted. "
      ]
    },
    {
      "cell_type": "code",
      "metadata": {
        "ExecuteTime": {
          "end_time": "2020-03-17T15:32:46.537833Z",
          "start_time": "2020-03-17T15:32:46.534861Z"
        },
        "id": "JHm9_Fmwnc-6",
        "colab_type": "code",
        "outputId": "965ccb12-e0b0-4300-ddd7-d7ea85c0242f",
        "colab": {
          "base_uri": "https://localhost:8080/",
          "height": 34
        }
      },
      "source": [
        "first_name[:2] #Begining up to index 2"
      ],
      "execution_count": 0,
      "outputs": [
        {
          "output_type": "execute_result",
          "data": {
            "text/plain": [
              "'Da'"
            ]
          },
          "metadata": {
            "tags": []
          },
          "execution_count": 12
        }
      ]
    },
    {
      "cell_type": "code",
      "metadata": {
        "ExecuteTime": {
          "end_time": "2020-03-17T15:32:56.230985Z",
          "start_time": "2020-03-17T15:32:56.226944Z"
        },
        "id": "TtVK915cnc_B",
        "colab_type": "code",
        "outputId": "3cb57ea7-9383-493a-eb8e-cd71f9f07cb8",
        "colab": {
          "base_uri": "https://localhost:8080/",
          "height": 34
        }
      },
      "source": [
        "first_name[:3] #Begining up to index 3"
      ],
      "execution_count": 0,
      "outputs": [
        {
          "output_type": "execute_result",
          "data": {
            "text/plain": [
              "'Dav'"
            ]
          },
          "metadata": {
            "tags": []
          },
          "execution_count": 13
        }
      ]
    },
    {
      "cell_type": "code",
      "metadata": {
        "ExecuteTime": {
          "end_time": "2020-03-17T15:33:07.525198Z",
          "start_time": "2020-03-17T15:33:07.520187Z"
        },
        "id": "2dRcYUs7nc_G",
        "colab_type": "code",
        "outputId": "88c4d8eb-be36-4f96-d73b-56839a8aa56a",
        "colab": {
          "base_uri": "https://localhost:8080/",
          "height": 34
        }
      },
      "source": [
        "first_name[1:] #From index 1 to end"
      ],
      "execution_count": 0,
      "outputs": [
        {
          "output_type": "execute_result",
          "data": {
            "text/plain": [
              "'avid'"
            ]
          },
          "metadata": {
            "tags": []
          },
          "execution_count": 14
        }
      ]
    },
    {
      "cell_type": "code",
      "metadata": {
        "ExecuteTime": {
          "end_time": "2020-03-17T15:33:19.430280Z",
          "start_time": "2020-03-17T15:33:19.426305Z"
        },
        "id": "3VdQW05Anc_J",
        "colab_type": "code",
        "outputId": "d28aafac-4521-4ca2-e4e9-c273598c49af",
        "colab": {
          "base_uri": "https://localhost:8080/",
          "height": 34
        }
      },
      "source": [
        "first_name[2:] #From index 2 to end"
      ],
      "execution_count": 0,
      "outputs": [
        {
          "output_type": "execute_result",
          "data": {
            "text/plain": [
              "'vid'"
            ]
          },
          "metadata": {
            "tags": []
          },
          "execution_count": 15
        }
      ]
    },
    {
      "cell_type": "markdown",
      "metadata": {
        "id": "phTjZMSGnc_N",
        "colab_type": "text"
      },
      "source": [
        "You can also use a negative value. In the first position, this will index from the end for the starting point (2 indexes from the end). This can be very helpful."
      ]
    },
    {
      "cell_type": "code",
      "metadata": {
        "ExecuteTime": {
          "end_time": "2020-03-17T15:36:42.489752Z",
          "start_time": "2020-03-17T15:36:42.485739Z"
        },
        "id": "-fudHmhXnc_P",
        "colab_type": "code",
        "outputId": "9bc70abf-c6cc-4eae-aaf0-8709700c62bb",
        "colab": {
          "base_uri": "https://localhost:8080/",
          "height": 34
        }
      },
      "source": [
        "first_name[-2:]"
      ],
      "execution_count": 0,
      "outputs": [
        {
          "output_type": "execute_result",
          "data": {
            "text/plain": [
              "'id'"
            ]
          },
          "metadata": {
            "tags": []
          },
          "execution_count": 16
        }
      ]
    },
    {
      "cell_type": "code",
      "metadata": {
        "ExecuteTime": {
          "end_time": "2020-03-17T15:36:42.968077Z",
          "start_time": "2020-03-17T15:36:42.964065Z"
        },
        "id": "dt-zptJcnc_T",
        "colab_type": "code",
        "outputId": "6763931a-dd2a-4726-f2c7-c415eeefe785",
        "colab": {
          "base_uri": "https://localhost:8080/",
          "height": 34
        }
      },
      "source": [
        "first_name[:-2]"
      ],
      "execution_count": 0,
      "outputs": [
        {
          "output_type": "execute_result",
          "data": {
            "text/plain": [
              "'Dav'"
            ]
          },
          "metadata": {
            "tags": []
          },
          "execution_count": 17
        }
      ]
    },
    {
      "cell_type": "markdown",
      "metadata": {
        "id": "afi48l60nc_W",
        "colab_type": "text"
      },
      "source": [
        "The third value (step) can be used to index at a different increment other than 1. For example, if you use 2 in for the 3rd value, you will index through every other letter."
      ]
    },
    {
      "cell_type": "code",
      "metadata": {
        "ExecuteTime": {
          "end_time": "2020-03-17T15:42:56.918625Z",
          "start_time": "2020-03-17T15:42:56.913835Z"
        },
        "id": "1D2Cxo5znc_X",
        "colab_type": "code",
        "outputId": "0b5afd8c-64dc-4d7e-fd9e-3bd684c90a46",
        "colab": {
          "base_uri": "https://localhost:8080/",
          "height": 34
        }
      },
      "source": [
        "first_name[::2]"
      ],
      "execution_count": 0,
      "outputs": [
        {
          "output_type": "execute_result",
          "data": {
            "text/plain": [
              "'Dvd'"
            ]
          },
          "metadata": {
            "tags": []
          },
          "execution_count": 18
        }
      ]
    },
    {
      "cell_type": "markdown",
      "metadata": {
        "id": "LbiJ9yGHnc_a",
        "colab_type": "text"
      },
      "source": [
        "You can also use a negative value to reverse the string."
      ]
    },
    {
      "cell_type": "code",
      "metadata": {
        "ExecuteTime": {
          "end_time": "2020-03-17T15:43:32.513891Z",
          "start_time": "2020-03-17T15:43:32.509811Z"
        },
        "id": "nZKCa3a_nc_b",
        "colab_type": "code",
        "outputId": "54f49629-b577-4458-8325-98d03a010472",
        "colab": {
          "base_uri": "https://localhost:8080/",
          "height": 34
        }
      },
      "source": [
        "first_name[::-1]"
      ],
      "execution_count": 0,
      "outputs": [
        {
          "output_type": "execute_result",
          "data": {
            "text/plain": [
              "'divaD'"
            ]
          },
          "metadata": {
            "tags": []
          },
          "execution_count": 19
        }
      ]
    },
    {
      "cell_type": "markdown",
      "metadata": {
        "id": "uqhjU95HSSiC",
        "colab_type": "text"
      },
      "source": [
        "THe illustration below is a good reference to use for understanding how indexing works (the example is the string 'probe').\n",
        "![alt text](https://cdn.programiz.com/sites/tutorial2program/files/python-list-index.png). \n",
        "\n",
        "The original source of this image is https://www.programiz.com/python-programming/list, check out the article for more information on lists!"
      ]
    },
    {
      "cell_type": "markdown",
      "metadata": {
        "id": "RZXmJEMHnc_e",
        "colab_type": "text"
      },
      "source": [
        "## List\n",
        "Another very helpful type in Python is the list. The list is a collection that is mutable and ordered. What does this mean? It means the contents can be changed, and the order is maintained. Lists can contain anything, including other collection types (like lists), and a list does not need to contain all of the same types. A list can be created by putting items in square brackets seperated by a comma. You can also create an empty list by using empty square brackets. \n",
        "Below is an example of a list being assigned to a variable."
      ]
    },
    {
      "cell_type": "code",
      "metadata": {
        "ExecuteTime": {
          "end_time": "2020-03-17T15:47:14.384275Z",
          "start_time": "2020-03-17T15:47:14.382322Z"
        },
        "id": "7RM6obH7nc_f",
        "colab_type": "code",
        "colab": {}
      },
      "source": [
        "people = ['David','Yolanda','Cydney','Mathilda','Kent']"
      ],
      "execution_count": 0,
      "outputs": []
    },
    {
      "cell_type": "markdown",
      "metadata": {
        "id": "GPDsmf5znc_i",
        "colab_type": "text"
      },
      "source": [
        "Lists can be sliced in the same exact way as a string. \n"
      ]
    },
    {
      "cell_type": "code",
      "metadata": {
        "ExecuteTime": {
          "end_time": "2020-03-17T15:47:15.289166Z",
          "start_time": "2020-03-17T15:47:15.285188Z"
        },
        "id": "WsCF8Us8nc_j",
        "colab_type": "code",
        "outputId": "fab67919-4719-4a1c-cd62-4e50cbeca4d0",
        "colab": {
          "base_uri": "https://localhost:8080/",
          "height": 34
        }
      },
      "source": [
        "people[0]"
      ],
      "execution_count": 0,
      "outputs": [
        {
          "output_type": "execute_result",
          "data": {
            "text/plain": [
              "'David'"
            ]
          },
          "metadata": {
            "tags": []
          },
          "execution_count": 21
        }
      ]
    },
    {
      "cell_type": "code",
      "metadata": {
        "ExecuteTime": {
          "end_time": "2020-03-17T15:47:15.656688Z",
          "start_time": "2020-03-17T15:47:15.652708Z"
        },
        "id": "CD07etMZnc_n",
        "colab_type": "code",
        "outputId": "ae4d5780-570b-4a41-9375-e60c8dc2a7e9",
        "colab": {
          "base_uri": "https://localhost:8080/",
          "height": 34
        }
      },
      "source": [
        "people[0:2]"
      ],
      "execution_count": 0,
      "outputs": [
        {
          "output_type": "execute_result",
          "data": {
            "text/plain": [
              "['David', 'Yolanda']"
            ]
          },
          "metadata": {
            "tags": []
          },
          "execution_count": 22
        }
      ]
    },
    {
      "cell_type": "code",
      "metadata": {
        "ExecuteTime": {
          "end_time": "2020-03-17T15:47:16.113537Z",
          "start_time": "2020-03-17T15:47:16.108561Z"
        },
        "id": "eKNvpYThnc_q",
        "colab_type": "code",
        "outputId": "f298c772-1ffc-413d-e4d2-a9e84731fa80",
        "colab": {
          "base_uri": "https://localhost:8080/",
          "height": 34
        }
      },
      "source": [
        "people[-1:]"
      ],
      "execution_count": 0,
      "outputs": [
        {
          "output_type": "execute_result",
          "data": {
            "text/plain": [
              "['Kent']"
            ]
          },
          "metadata": {
            "tags": []
          },
          "execution_count": 23
        }
      ]
    },
    {
      "cell_type": "code",
      "metadata": {
        "ExecuteTime": {
          "end_time": "2020-03-17T15:47:16.554638Z",
          "start_time": "2020-03-17T15:47:16.550659Z"
        },
        "id": "Yrl7SisQnc_u",
        "colab_type": "code",
        "outputId": "8078e1f1-03bb-4898-9828-148d75b00857",
        "colab": {
          "base_uri": "https://localhost:8080/",
          "height": 34
        }
      },
      "source": [
        "people[:-2]"
      ],
      "execution_count": 0,
      "outputs": [
        {
          "output_type": "execute_result",
          "data": {
            "text/plain": [
              "['David', 'Yolanda', 'Cydney']"
            ]
          },
          "metadata": {
            "tags": []
          },
          "execution_count": 24
        }
      ]
    },
    {
      "cell_type": "code",
      "metadata": {
        "ExecuteTime": {
          "end_time": "2020-03-17T15:47:17.067658Z",
          "start_time": "2020-03-17T15:47:17.063617Z"
        },
        "id": "gn3-xWqznc_y",
        "colab_type": "code",
        "outputId": "ea8f6cb1-4676-4114-b3f0-df29a4810389",
        "colab": {
          "base_uri": "https://localhost:8080/",
          "height": 34
        }
      },
      "source": [
        "people[::-1]"
      ],
      "execution_count": 0,
      "outputs": [
        {
          "output_type": "execute_result",
          "data": {
            "text/plain": [
              "['Kent', 'Mathilda', 'Cydney', 'Yolanda', 'David']"
            ]
          },
          "metadata": {
            "tags": []
          },
          "execution_count": 25
        }
      ]
    },
    {
      "cell_type": "code",
      "metadata": {
        "ExecuteTime": {
          "end_time": "2020-03-17T15:47:17.505775Z",
          "start_time": "2020-03-17T15:47:17.501764Z"
        },
        "id": "WyLwGiHMnc_2",
        "colab_type": "code",
        "outputId": "e8da9a65-1a62-4fec-bdae-900ee4d7738f",
        "colab": {
          "base_uri": "https://localhost:8080/",
          "height": 34
        }
      },
      "source": [
        "people[1:3]"
      ],
      "execution_count": 0,
      "outputs": [
        {
          "output_type": "execute_result",
          "data": {
            "text/plain": [
              "['Yolanda', 'Cydney']"
            ]
          },
          "metadata": {
            "tags": []
          },
          "execution_count": 26
        }
      ]
    },
    {
      "cell_type": "markdown",
      "metadata": {
        "id": "Bi6Httidnc_5",
        "colab_type": "text"
      },
      "source": [
        "You can use methods such as append, pop, and remove to update the list.\n",
        "Append will add an item to the end of the list. "
      ]
    },
    {
      "cell_type": "code",
      "metadata": {
        "ExecuteTime": {
          "end_time": "2020-03-17T15:47:18.823939Z",
          "start_time": "2020-03-17T15:47:18.819800Z"
        },
        "id": "_QSVHK-Mnc_6",
        "colab_type": "code",
        "outputId": "68275ffd-1c58-475a-8a1b-b3b230d9b9af",
        "colab": {
          "base_uri": "https://localhost:8080/",
          "height": 34
        }
      },
      "source": [
        "people.append('Ina')\n",
        "people"
      ],
      "execution_count": 0,
      "outputs": [
        {
          "output_type": "execute_result",
          "data": {
            "text/plain": [
              "['David', 'Yolanda', 'Cydney', 'Mathilda', 'Kent', 'Ina']"
            ]
          },
          "metadata": {
            "tags": []
          },
          "execution_count": 27
        }
      ]
    },
    {
      "cell_type": "markdown",
      "metadata": {
        "id": "s4LeLJc7ohwt",
        "colab_type": "text"
      },
      "source": [
        "Pop will remove the last item in the list, and return the value of the last item. Below, we are assigned the returned value to the variable \"last_person\" and then displaying both the last_person variable and the people list."
      ]
    },
    {
      "cell_type": "code",
      "metadata": {
        "id": "1vum_Q-cnc_9",
        "colab_type": "code",
        "outputId": "c5a9d631-34cc-40a2-fc17-782bc9c238f0",
        "colab": {
          "base_uri": "https://localhost:8080/",
          "height": 51
        }
      },
      "source": [
        "last_person = people.pop()\n",
        "print(last_person)\n",
        "people"
      ],
      "execution_count": 0,
      "outputs": [
        {
          "output_type": "stream",
          "text": [
            "Ina\n"
          ],
          "name": "stdout"
        },
        {
          "output_type": "execute_result",
          "data": {
            "text/plain": [
              "['David', 'Yolanda', 'Cydney', 'Mathilda', 'Kent']"
            ]
          },
          "metadata": {
            "tags": []
          },
          "execution_count": 28
        }
      ]
    },
    {
      "cell_type": "markdown",
      "metadata": {
        "id": "BH1mmzOwo0bk",
        "colab_type": "text"
      },
      "source": [
        "Wait, what is \"print\"? This is a function that will either print out a value to standard out or in the output poriton of the cell. "
      ]
    },
    {
      "cell_type": "markdown",
      "metadata": {
        "id": "Gj3iLS4gUQxw",
        "colab_type": "text"
      },
      "source": [
        "## Sets\n",
        "Sets are a mutable, unordered collection type. Only 1 of any value can exist in a set. I will covert a collection to a set as an easy was to eliminate duplicate values.\n",
        "You can create a set by using curly braces {} and seperating the values with a comma:"
      ]
    },
    {
      "cell_type": "code",
      "metadata": {
        "id": "Do1j5spuUjGd",
        "colab_type": "code",
        "outputId": "9bba289e-62f0-4fdf-c4c1-bb27d20f9f08",
        "colab": {
          "base_uri": "https://localhost:8080/",
          "height": 34
        }
      },
      "source": [
        "example_set = {'id1','id2','id3','id3','id4'}\n",
        "example_set"
      ],
      "execution_count": 0,
      "outputs": [
        {
          "output_type": "execute_result",
          "data": {
            "text/plain": [
              "{'id1', 'id2', 'id3', 'id4'}"
            ]
          },
          "metadata": {
            "tags": []
          },
          "execution_count": 33
        }
      ]
    },
    {
      "cell_type": "markdown",
      "metadata": {
        "id": "vIaCuuVqVG-W",
        "colab_type": "text"
      },
      "source": [
        "Notice how there was only 1 instance of id3, this is due to the behavior described above (only 1 instance of each value). To create an empty set (or to convert another collection to a set), you use the set function:"
      ]
    },
    {
      "cell_type": "code",
      "metadata": {
        "id": "inOFYof8VWup",
        "colab_type": "code",
        "outputId": "a717c299-5a98-4f47-d8f4-13776a7644e0",
        "colab": {
          "base_uri": "https://localhost:8080/",
          "height": 34
        }
      },
      "source": [
        "example_list2 = [1,2,3,3,3,2,5,4,2,4,6,7,8,6,5,4,3,3,]\n",
        "example_set2 = set(example_list2)\n",
        "example_set2"
      ],
      "execution_count": 0,
      "outputs": [
        {
          "output_type": "execute_result",
          "data": {
            "text/plain": [
              "{1, 2, 3, 4, 5, 6, 7, 8}"
            ]
          },
          "metadata": {
            "tags": []
          },
          "execution_count": 36
        }
      ]
    },
    {
      "cell_type": "markdown",
      "metadata": {
        "id": "UjTxUhvZV-cC",
        "colab_type": "text"
      },
      "source": [
        "## Tuples\n",
        "Tuples are an imutable collection (cannot be changed). I most often use them as keys in a dictionary when I want multiple pieces of data to define a key (I wil explain more later on in dictionaries). Slicing in a tuple works just like a list, but many of the other functions for a list will not work with a tuple because it cannot change. A tuple can contain multiple data types including a mixture of types.\n",
        "Tuples can be created by seperating items with a comma in parenthesis ()."
      ]
    },
    {
      "cell_type": "code",
      "metadata": {
        "id": "1rGPdTk1WhRm",
        "colab_type": "code",
        "colab": {}
      },
      "source": [
        "example_tuple1 = "
      ],
      "execution_count": 0,
      "outputs": []
    },
    {
      "cell_type": "markdown",
      "metadata": {
        "id": "sKr8Sa3LI54s",
        "colab_type": "text"
      },
      "source": [
        "## Dictionaries\n",
        "A dictionary is a datatype that includes a key and a value. The key much be unique and m"
      ]
    },
    {
      "cell_type": "code",
      "metadata": {
        "id": "b00NR9mlUi_s",
        "colab_type": "code",
        "colab": {}
      },
      "source": [
        ""
      ],
      "execution_count": 0,
      "outputs": []
    },
    {
      "cell_type": "code",
      "metadata": {
        "id": "1o11sDnnUi5C",
        "colab_type": "code",
        "colab": {}
      },
      "source": [
        ""
      ],
      "execution_count": 0,
      "outputs": []
    },
    {
      "cell_type": "code",
      "metadata": {
        "id": "wT3hry2dUiyF",
        "colab_type": "code",
        "colab": {}
      },
      "source": [
        ""
      ],
      "execution_count": 0,
      "outputs": []
    },
    {
      "cell_type": "code",
      "metadata": {
        "id": "wPeSWFq3UirT",
        "colab_type": "code",
        "colab": {}
      },
      "source": [
        ""
      ],
      "execution_count": 0,
      "outputs": []
    },
    {
      "cell_type": "code",
      "metadata": {
        "id": "OSMJOtjNUikt",
        "colab_type": "code",
        "colab": {}
      },
      "source": [
        ""
      ],
      "execution_count": 0,
      "outputs": []
    },
    {
      "cell_type": "code",
      "metadata": {
        "id": "qBOkGCbDUidX",
        "colab_type": "code",
        "colab": {}
      },
      "source": [
        ""
      ],
      "execution_count": 0,
      "outputs": []
    },
    {
      "cell_type": "code",
      "metadata": {
        "id": "GO7s11IUUiU2",
        "colab_type": "code",
        "colab": {}
      },
      "source": [
        ""
      ],
      "execution_count": 0,
      "outputs": []
    },
    {
      "cell_type": "code",
      "metadata": {
        "id": "mR8WzOzSUiND",
        "colab_type": "code",
        "colab": {}
      },
      "source": [
        ""
      ],
      "execution_count": 0,
      "outputs": []
    },
    {
      "cell_type": "code",
      "metadata": {
        "id": "h7SgWFzmUiEQ",
        "colab_type": "code",
        "colab": {}
      },
      "source": [
        ""
      ],
      "execution_count": 0,
      "outputs": []
    },
    {
      "cell_type": "code",
      "metadata": {
        "id": "afHu7jOrUh4Q",
        "colab_type": "code",
        "colab": {}
      },
      "source": [
        ""
      ],
      "execution_count": 0,
      "outputs": []
    }
  ]
}