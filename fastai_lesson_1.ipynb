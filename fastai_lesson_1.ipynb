{
  "nbformat": 4,
  "nbformat_minor": 0,
  "metadata": {
    "colab": {
      "name": "fastai_lesson_1.ipynb",
      "provenance": [],
      "collapsed_sections": [],
      "authorship_tag": "ABX9TyNd/doGiB/t9/sYp2psAhuX",
      "include_colab_link": true
    },
    "kernelspec": {
      "name": "python3",
      "display_name": "Python 3"
    }
  },
  "cells": [
    {
      "cell_type": "markdown",
      "metadata": {
        "id": "view-in-github",
        "colab_type": "text"
      },
      "source": [
        "<a href=\"https://colab.research.google.com/github/ddsmit/teach_and_learn/blob/master/fastai_lesson_1.ipynb\" target=\"_parent\"><img src=\"https://colab.research.google.com/assets/colab-badge.svg\" alt=\"Open In Colab\"/></a>"
      ]
    },
    {
      "cell_type": "markdown",
      "metadata": {
        "id": "7xjNM-HvQN6D",
        "colab_type": "text"
      },
      "source": [
        "# FastAI Part 1, 1, Lesson 1"
      ]
    },
    {
      "cell_type": "markdown",
      "metadata": {
        "id": "GVT1S715QZ1N",
        "colab_type": "text"
      },
      "source": [
        "Notes: The magics below allow for the underlying libraries to reload automatically when they change. The curl command is required to run in colab."
      ]
    },
    {
      "cell_type": "code",
      "metadata": {
        "id": "Vtj-f0K-R-j8",
        "colab_type": "code",
        "colab": {
          "base_uri": "https://localhost:8080/",
          "height": 51
        },
        "outputId": "be74a00d-bde5-4147-e0ce-513c80d68018"
      },
      "source": [
        "!curl -s https://course.fast.ai/setup/colab | bash"
      ],
      "execution_count": 1,
      "outputs": [
        {
          "output_type": "stream",
          "text": [
            "Updating fastai...\n",
            "Done.\n"
          ],
          "name": "stdout"
        }
      ]
    },
    {
      "cell_type": "code",
      "metadata": {
        "id": "rkeZ4w5lPaxC",
        "colab_type": "code",
        "colab": {}
      },
      "source": [
        "%reload_ext autoreload\n",
        "%autoreload 2"
      ],
      "execution_count": 0,
      "outputs": []
    },
    {
      "cell_type": "code",
      "metadata": {
        "id": "0jajMzDjP2G_",
        "colab_type": "code",
        "colab": {}
      },
      "source": [
        "import fastai\n",
        "import fastai.vision as vision"
      ],
      "execution_count": 0,
      "outputs": []
    },
    {
      "cell_type": "code",
      "metadata": {
        "id": "qu_NZrSIQFPY",
        "colab_type": "code",
        "colab": {
          "base_uri": "https://localhost:8080/",
          "height": 102
        },
        "outputId": "cfbe65a5-7136-4362-d09b-631c7503ce51"
      },
      "source": [
        "help(vision.untar_data)"
      ],
      "execution_count": 4,
      "outputs": [
        {
          "output_type": "stream",
          "text": [
            "Help on function untar_data in module fastai.datasets:\n",
            "\n",
            "untar_data(url:str, fname:Union[pathlib.Path, str]=None, dest:Union[pathlib.Path, str]=None, data=True, force_download=False, verbose=False) -> pathlib.Path\n",
            "    Download `url` to `fname` if `dest` doesn't exist, and un-tgz to folder `dest`.\n",
            "\n"
          ],
          "name": "stdout"
        }
      ]
    },
    {
      "cell_type": "markdown",
      "metadata": {
        "id": "MMR-XFi4Rjhn",
        "colab_type": "text"
      },
      "source": [
        "We are going to use the [Oxford-IIIT Pet Dataset](http://www.robots.ox.ac.uk/~vgg/data/pets/) by [O. M. Parkhi et al., 2012](http://www.robots.ox.ac.uk/~vgg/publications/2012/parkhi12a/parkhi12a.pdf) which features 12 cat breeds and 25 dogs breeds.\n",
        "Sited from FastAI training."
      ]
    },
    {
      "cell_type": "code",
      "metadata": {
        "id": "KPHYHajkRNe2",
        "colab_type": "code",
        "colab": {}
      },
      "source": [
        "path = vision.untar_data(vision.URLs.PETS)"
      ],
      "execution_count": 0,
      "outputs": []
    }
  ]
}